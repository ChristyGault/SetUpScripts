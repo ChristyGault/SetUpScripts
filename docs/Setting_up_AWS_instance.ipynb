{
 "cells": [
  {
   "cell_type": "markdown",
   "id": "69d2801a",
   "metadata": {},
   "source": [
    "### Tips on setting up an AWS account through the console"
   ]
  },
  {
   "cell_type": "markdown",
   "id": "cf1d20f1",
   "metadata": {},
   "source": [
    "1. Create an account as a root user. The root user will have access to billing.\n",
    "2. You also need to create an IAM account for day-to-day operations like signing into an instance. AWS best practices are to control permissions through security groups and IAM accounts.\n",
    "3. I used a default administrative security group. I needed to add an inbound traffic rule that allowed my laptop IP address to SSH into instances. On the AWS console, go to EC2>Network&Security>Security Groups>Inbound Rules>Edit Inbound Rules. Add a rule to allow all IPv4 SSH inbound traffic through port 22.\n",
    "4. Create a PEM file (https://docs.aws.amazon.com/AWSEC2/latest/UserGuide/create-key-pairs.html)\n",
    "5. Get public and private access key through AWS console. Click on the specific user and hover to Security Credentials. Click on create access key, and it is going to provide an access key id and secret access key."
   ]
  },
  {
   "cell_type": "markdown",
   "id": "46c9f69a",
   "metadata": {},
   "source": [
    "### Configuring your local machine to connect to an AWS instance"
   ]
  },
  {
   "cell_type": "code",
   "execution_count": null,
   "id": "84bd9105",
   "metadata": {},
   "outputs": [],
   "source": [
    "homebrew install awscli"
   ]
  },
  {
   "cell_type": "code",
   "execution_count": null,
   "id": "b2fe421f",
   "metadata": {},
   "outputs": [],
   "source": [
    "aws configure"
   ]
  },
  {
   "cell_type": "code",
   "execution_count": null,
   "id": "67c88529",
   "metadata": {},
   "outputs": [],
   "source": [
    "ssh -i CMG_Ubuntu3.pem ubuntu@[public_IPv4_address]"
   ]
  },
  {
   "cell_type": "markdown",
   "id": "caaf2db5",
   "metadata": {},
   "source": [
    "### Setting up AWS instance"
   ]
  },
  {
   "cell_type": "code",
   "execution_count": null,
   "id": "742c54b8",
   "metadata": {},
   "outputs": [],
   "source": [
    "sudo apt-get update\n",
    "sudo apt install nfs-common\n",
    "sudo apt install cifs-utils\n",
    "sudo apt-get install software-properties-common\n",
    "sudo apt-add-repository universe\n",
    "sudo apt-get install python3-pip\n",
    "sudo apt install awscli\n",
    "sudo apt install docker.io\n",
    "pip install --user jupyter\n",
    "export PATH=/home/ubuntu/.local/bin:$PATH"
   ]
  },
  {
   "cell_type": "markdown",
   "id": "6dc41f9e",
   "metadata": {},
   "source": [
    "### Add SSH key to ssh-agent"
   ]
  },
  {
   "cell_type": "code",
   "execution_count": null,
   "id": "be2a8979",
   "metadata": {},
   "outputs": [],
   "source": [
    "# Do on command line of instance\n",
    "eval \"$(ssh-agent -s)\"\n",
    "\n",
    "# copy file from personal laptop /Users/christygault/.ssh/id_ed25519 to ~/.ssh/id_ed25519 on AWS instance\n",
    "\n",
    "vi ~/.ssh/config\n",
    "# The ~/.ssh/config file should read:\n",
    "#Host github.com\n",
    "#  AddKeysToAgent yes\n",
    "#  IdentityFile ~/.ssh/id_ed25519\n",
    "\n",
    "chmod 400 ~/.ssh/id_ed25519\n"
   ]
  },
  {
   "cell_type": "markdown",
   "id": "c71101e6",
   "metadata": {},
   "source": [
    "### Getting your local machine ready to work with PyCharm and AWS"
   ]
  },
  {
   "cell_type": "code",
   "execution_count": null,
   "id": "5d2410e2",
   "metadata": {},
   "outputs": [],
   "source": [
    "brew tap aws/tap\n",
    "brew install aws-sam-cli"
   ]
  },
  {
   "cell_type": "markdown",
   "id": "be3b2421",
   "metadata": {},
   "source": [
    "In PyCharm, go to Preferences>Settings>Plugins>Marketplace. Search for \"AWS toolkit\". Install. "
   ]
  },
  {
   "cell_type": "markdown",
   "id": "adda4d5a",
   "metadata": {},
   "source": [
    "Install Docker."
   ]
  },
  {
   "cell_type": "code",
   "execution_count": null,
   "id": "871a42cd",
   "metadata": {},
   "outputs": [],
   "source": []
  }
 ],
 "metadata": {
  "kernelspec": {
   "display_name": "Python 3 (ipykernel)",
   "language": "python",
   "name": "python3"
  },
  "language_info": {
   "codemirror_mode": {
    "name": "ipython",
    "version": 3
   },
   "file_extension": ".py",
   "mimetype": "text/x-python",
   "name": "python",
   "nbconvert_exporter": "python",
   "pygments_lexer": "ipython3",
   "version": "3.10.6"
  }
 },
 "nbformat": 4,
 "nbformat_minor": 5
}
