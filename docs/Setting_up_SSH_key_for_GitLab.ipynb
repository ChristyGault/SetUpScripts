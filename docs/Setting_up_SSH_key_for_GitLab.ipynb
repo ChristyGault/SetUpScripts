{
 "cells": [
  {
   "cell_type": "markdown",
   "id": "b12fd20e",
   "metadata": {},
   "source": [
    "### See if you have an existing SSH key pair"
   ]
  },
  {
   "cell_type": "code",
   "execution_count": 5,
   "id": "3161f532",
   "metadata": {},
   "outputs": [
    {
     "name": "stdout",
     "output_type": "stream",
     "text": [
      "total 40\n",
      "drwx------   7 christygault  staff   224 Nov  6 11:58 .\n",
      "drwxr-xr-x+ 58 christygault  staff  1856 Nov  6 11:58 ..\n",
      "-rw-r--r--@  1 christygault  staff    95 Nov  6 11:58 config\n",
      "-rw-------   1 christygault  staff   464 May  1  2023 id_ed25519_github\n",
      "-rw-r--r--   1 christygault  staff   104 May  1  2023 id_ed25519_github.pub\n",
      "-rw-------   1 christygault  staff  3357 Jun 26 09:28 known_hosts\n",
      "-rw-------@  1 christygault  staff  2519 Jun 24 13:18 known_hosts.old\n"
     ]
    }
   ],
   "source": [
    "%%bash\n",
    "ls -al ~/.ssh"
   ]
  },
  {
   "cell_type": "code",
   "execution_count": 6,
   "id": "d0f23ca8",
   "metadata": {},
   "outputs": [
    {
     "name": "stdout",
     "output_type": "stream",
     "text": [
      "Host github.com\n",
      "  AddKeysToAgent yes\n",
      "  UseKeychain yes\n",
      "  IdentityFile ~/.ssh/id_ed25519_github\n"
     ]
    }
   ],
   "source": [
    "%%bash\n",
    "cat ~/.ssh/config"
   ]
  },
  {
   "cell_type": "markdown",
   "id": "0d430b9f",
   "metadata": {},
   "source": [
    "I have an SSH key pair for GitHub. I have to make sure I don't get the GitHub and GitLab SSH keys mixed up."
   ]
  },
  {
   "cell_type": "markdown",
   "id": "9716bf43",
   "metadata": {},
   "source": [
    "### Generating a new SSH key for GitLab"
   ]
  },
  {
   "cell_type": "code",
   "execution_count": 7,
   "id": "c900b7ce",
   "metadata": {},
   "outputs": [],
   "source": [
    "# Do this on the command line so you can answer prompts\n",
    "# ssh-keygen -t ed25519 -C \"christygault@gmail.com\""
   ]
  },
  {
   "cell_type": "markdown",
   "id": "735adc6f",
   "metadata": {},
   "source": [
    "### Add SSH key to ssh-agent\n",
    "First, start ssh-agent in the background."
   ]
  },
  {
   "cell_type": "code",
   "execution_count": 8,
   "id": "a0994502",
   "metadata": {},
   "outputs": [
    {
     "name": "stdout",
     "output_type": "stream",
     "text": [
      "Agent pid 33605\n"
     ]
    }
   ],
   "source": [
    "%%bash\n",
    "eval \"$(ssh-agent -s)\""
   ]
  },
  {
   "cell_type": "code",
   "execution_count": null,
   "id": "bd57ceae",
   "metadata": {},
   "outputs": [],
   "source": []
  },
  {
   "cell_type": "markdown",
   "id": "4393225c",
   "metadata": {},
   "source": [
    "### Add key to config file"
   ]
  },
  {
   "cell_type": "code",
   "execution_count": 15,
   "id": "e23c1d73",
   "metadata": {},
   "outputs": [],
   "source": [
    "%%bash\n",
    "#cat ~/.ssh/config"
   ]
  },
  {
   "cell_type": "code",
   "execution_count": 11,
   "id": "b621726a",
   "metadata": {},
   "outputs": [],
   "source": [
    "# Run on command line so you can enter password:\n",
    "# ssh-add --apple-use-keychain ~/.ssh/id_ed25519_gitlab"
   ]
  },
  {
   "cell_type": "markdown",
   "id": "d005fb31",
   "metadata": {},
   "source": [
    "### Add SSH key to Gitlab account"
   ]
  },
  {
   "cell_type": "code",
   "execution_count": 14,
   "id": "051ce964",
   "metadata": {},
   "outputs": [],
   "source": [
    "%%bash\n",
    "pbcopy < ~/.ssh/id_ed25519_gitlab.pub"
   ]
  },
  {
   "cell_type": "code",
   "execution_count": null,
   "id": "5063fa9d",
   "metadata": {},
   "outputs": [],
   "source": []
  }
 ],
 "metadata": {
  "kernelspec": {
   "display_name": "Python 3 (ipykernel)",
   "language": "python",
   "name": "python3"
  },
  "language_info": {
   "codemirror_mode": {
    "name": "ipython",
    "version": 3
   },
   "file_extension": ".py",
   "mimetype": "text/x-python",
   "name": "python",
   "nbconvert_exporter": "python",
   "pygments_lexer": "ipython3",
   "version": "3.10.6"
  }
 },
 "nbformat": 4,
 "nbformat_minor": 5
}
