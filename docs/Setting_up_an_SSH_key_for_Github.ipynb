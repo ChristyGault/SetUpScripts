{
 "cells": [
  {
   "cell_type": "markdown",
   "id": "671c6316",
   "metadata": {},
   "source": [
    "First, check to make sure that the primary email address associated with Github is the address you expect. The sign-in process won't work if you are typing in the wrong address as your username."
   ]
  },
  {
   "cell_type": "markdown",
   "id": "2a750c24",
   "metadata": {},
   "source": [
    "### Checking for existing SSH keys on your Github account\n",
    "Go to https://github.com/settings/keys and look for SSH keys on your account. Delete any that are outdated."
   ]
  },
  {
   "cell_type": "markdown",
   "id": "d1712e69",
   "metadata": {},
   "source": [
    "### Checking for existing SSH keys on your local machine"
   ]
  },
  {
   "cell_type": "code",
   "execution_count": 2,
   "id": "f67aedba",
   "metadata": {},
   "outputs": [
    {
     "name": "stdout",
     "output_type": "stream",
     "text": [
      "total 16\n",
      "drwx------   4 christygault  staff   128 May  1 11:06 .\n",
      "drwxr-xr-x+ 49 christygault  staff  1568 May  1 11:06 ..\n",
      "-rw-r--r--@  1 christygault  staff    88 Apr 20 18:15 config\n",
      "-rw-r--r--   1 christygault  staff   547 Oct  8  2018 known_hosts\n"
     ]
    }
   ],
   "source": [
    "%%bash\n",
    "ls -al ~/.ssh"
   ]
  },
  {
   "cell_type": "markdown",
   "id": "ecd8a7e6",
   "metadata": {},
   "source": [
    "It looks like I have no existing public SSH keys for Github, which would show up as: <br>\n",
    "- id_rsa.pub\n",
    "- id_ecdsa.pub, or\n",
    "- id_ed25519.pub"
   ]
  },
  {
   "cell_type": "markdown",
   "id": "532f219e",
   "metadata": {},
   "source": [
    "### Generating a new SSH key"
   ]
  },
  {
   "cell_type": "code",
   "execution_count": 7,
   "id": "04715cde",
   "metadata": {},
   "outputs": [],
   "source": [
    "# Do this on the command line so you can answer prompts\n",
    "# ssh-keygen -t ed25519 -C \"christygault@gmail.com\""
   ]
  },
  {
   "cell_type": "markdown",
   "id": "f89448a5",
   "metadata": {},
   "source": [
    "When prompted, make sure you add a passphrase for an extra layer of security. Saving the key in the default location is fine (/Users/christygault/.ssh/id_ed25519)."
   ]
  },
  {
   "cell_type": "markdown",
   "id": "66b3f85f",
   "metadata": {},
   "source": [
    "### Add SSH key to ssh-agent\n",
    "First, start ssh-agent in the background."
   ]
  },
  {
   "cell_type": "code",
   "execution_count": 9,
   "id": "cc5c48cc",
   "metadata": {},
   "outputs": [
    {
     "name": "stdout",
     "output_type": "stream",
     "text": [
      "Agent pid 88339\n"
     ]
    }
   ],
   "source": [
    "%%bash\n",
    "eval \"$(ssh-agent -s)\""
   ]
  },
  {
   "cell_type": "markdown",
   "id": "2ee593ab",
   "metadata": {},
   "source": [
    "Check to see if the ssh config file exists in the default location:"
   ]
  },
  {
   "cell_type": "code",
   "execution_count": 1,
   "id": "1ca8542d",
   "metadata": {},
   "outputs": [
    {
     "name": "stdout",
     "output_type": "stream",
     "text": [
      "Host github.com\n",
      "  AddKeysToAgent yes\n",
      "  UseKeychain yes\n",
      "  IdentityFile ~/.ssh/id_ed25519_github\n"
     ]
    }
   ],
   "source": [
    "%%bash\n",
    "less ~/.ssh/config"
   ]
  },
  {
   "cell_type": "markdown",
   "id": "6cb9adce",
   "metadata": {},
   "source": [
    "Change the config file to read the following:"
   ]
  },
  {
   "cell_type": "raw",
   "id": "fbca9249",
   "metadata": {},
   "source": [
    "Host github.com\n",
    "  AddKeysToAgent yes\n",
    "  UseKeychain yes\n",
    "  IdentityFile ~/.ssh/id_ed25519"
   ]
  },
  {
   "cell_type": "code",
   "execution_count": 11,
   "id": "91df45bd",
   "metadata": {},
   "outputs": [
    {
     "name": "stderr",
     "output_type": "stream",
     "text": [
      "Identity added: /Users/christygault/.ssh/id_ed25519 (christygault@gmail.com)\n"
     ]
    }
   ],
   "source": [
    "%%bash\n",
    "ssh-add --apple-use-keychain ~/.ssh/id_ed25519"
   ]
  },
  {
   "cell_type": "markdown",
   "id": "0657303b",
   "metadata": {},
   "source": [
    "### Add SSH key to Github account"
   ]
  },
  {
   "cell_type": "code",
   "execution_count": 12,
   "id": "40bfb82c",
   "metadata": {},
   "outputs": [],
   "source": [
    "%%bash\n",
    "pbcopy < ~/.ssh/id_ed25519.pub"
   ]
  },
  {
   "cell_type": "markdown",
   "id": "3bcf3b70",
   "metadata": {},
   "source": [
    "Go to \"Settings\" on your Github account. Click on \"New SSH key\". Add your public key from the clipboard and give it an informative title."
   ]
  },
  {
   "cell_type": "markdown",
   "id": "31773030",
   "metadata": {},
   "source": [
    "Now you are ready to clone repositories to your local machine using the SSH protocol!"
   ]
  },
  {
   "cell_type": "code",
   "execution_count": null,
   "id": "5b725234",
   "metadata": {},
   "outputs": [],
   "source": []
  }
 ],
 "metadata": {
  "kernelspec": {
   "display_name": "Python 3 (ipykernel)",
   "language": "python",
   "name": "python3"
  },
  "language_info": {
   "codemirror_mode": {
    "name": "ipython",
    "version": 3
   },
   "file_extension": ".py",
   "mimetype": "text/x-python",
   "name": "python",
   "nbconvert_exporter": "python",
   "pygments_lexer": "ipython3",
   "version": "3.10.6"
  }
 },
 "nbformat": 4,
 "nbformat_minor": 5
}
